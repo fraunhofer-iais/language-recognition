{
 "cells": [
  {
   "cell_type": "markdown",
   "metadata": {},
   "source": [
    "# Language-Recognition using ConvNets\n",
    "\n",
    "_written by Joscha S. Rieber (Fraunhofer IAIS) in 2020_"
   ]
  },
  {
   "cell_type": "markdown",
   "metadata": {},
   "source": [
    "## Environment"
   ]
  },
  {
   "cell_type": "code",
   "execution_count": 1,
   "metadata": {},
   "outputs": [],
   "source": [
    "train = 'train'\n",
    "test = 'test'\n",
    "\n",
    "eng = 'english'\n",
    "ger = 'german'\n",
    "\n",
    "languages = [eng, ger]\n",
    "categories = [train, test]\n",
    "\n",
    "dataset_root_path = '../data/'\n",
    "test_path = dataset_root_path + test\n",
    "\n",
    "batch_size = 32\n",
    "image_width = 500\n",
    "image_height = 128\n",
    "\n",
    "model_file = dataset_root_path + 'model.h5'"
   ]
  },
  {
   "cell_type": "code",
   "execution_count": 2,
   "metadata": {},
   "outputs": [],
   "source": [
    "from glob import glob\n",
    "from tensorflow.keras.preprocessing.image import ImageDataGenerator\n",
    "\n",
    "# XLA compiles your TensorFlow graph into a sequence of GPU kernels generated specifically for your model.\n",
    "# Since these kernels are unique to your program, they can exploit model-specific information for optimization.\n",
    "\n",
    "# import os\n",
    "# os.environ['TF_XLA_FLAGS'] = '--tf_xla_cpu_global_jit'"
   ]
  },
  {
   "cell_type": "code",
   "execution_count": 3,
   "metadata": {},
   "outputs": [
    {
     "name": "stdout",
     "output_type": "stream",
     "text": [
      "Evaluation steps: 1250\n"
     ]
    }
   ],
   "source": [
    "all_files = glob(test_path + '/*/*.png')\n",
    "\n",
    "num_test = len(all_files)\n",
    "\n",
    "evaluation_steps = int(num_test / batch_size)\n",
    "\n",
    "print('Evaluation steps: ' + str(evaluation_steps))"
   ]
  },
  {
   "cell_type": "markdown",
   "metadata": {},
   "source": [
    "## Evaluation Batch Generator Function\n",
    "\n",
    "The following function loads the available images for evaluation"
   ]
  },
  {
   "cell_type": "code",
   "execution_count": 4,
   "metadata": {},
   "outputs": [
    {
     "name": "stdout",
     "output_type": "stream",
     "text": [
      "Found 40000 images belonging to 2 classes.\n"
     ]
    }
   ],
   "source": [
    "image_data_generator = ImageDataGenerator(rescale=1./255)\n",
    "evaluation_generator = image_data_generator.flow_from_directory(test_path, batch_size=batch_size, class_mode='categorical', target_size=(image_width, image_height), color_mode='grayscale')"
   ]
  },
  {
   "cell_type": "markdown",
   "metadata": {},
   "source": [
    "## Model evaluation"
   ]
  },
  {
   "cell_type": "code",
   "execution_count": 5,
   "metadata": {},
   "outputs": [],
   "source": [
    "from tensorflow.keras.models import load_model"
   ]
  },
  {
   "cell_type": "code",
   "execution_count": 6,
   "metadata": {},
   "outputs": [],
   "source": [
    "model = load_model(model_file)"
   ]
  },
  {
   "cell_type": "code",
   "execution_count": 8,
   "metadata": {},
   "outputs": [
    {
     "name": "stdout",
     "output_type": "stream",
     "text": [
      "1250/1250 [==============================] - 109s 87ms/step - loss: 0.3642 - accuracy: 0.8745\n"
     ]
    }
   ],
   "source": [
    "_, test_accuracy = model.evaluate(evaluation_generator, steps=evaluation_steps)"
   ]
  },
  {
   "cell_type": "code",
   "execution_count": 14,
   "metadata": {},
   "outputs": [
    {
     "name": "stdout",
     "output_type": "stream",
     "text": [
      "Test accuracy: 87.5 %\n"
     ]
    }
   ],
   "source": [
    "print('Test accuracy: ' + str(round(test_accuracy * 100., 1)) + ' %')"
   ]
  }
 ],
 "metadata": {
  "kernelspec": {
   "display_name": "Python 3",
   "language": "python",
   "name": "python3"
  },
  "language_info": {
   "codemirror_mode": {
    "name": "ipython",
    "version": 3
   },
   "file_extension": ".py",
   "mimetype": "text/x-python",
   "name": "python",
   "nbconvert_exporter": "python",
   "pygments_lexer": "ipython3",
   "version": "3.7.7"
  }
 },
 "nbformat": 4,
 "nbformat_minor": 4
}
